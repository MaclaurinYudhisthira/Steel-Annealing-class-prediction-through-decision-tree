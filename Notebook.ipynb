{
 "cells": [
  {
   "cell_type": "markdown",
   "metadata": {},
   "source": [
    "# Link for Dataset: [https://archive.ics.uci.edu/ml/datasets/Annealing](https://archive.ics.uci.edu/ml/datasets/Annealing)"
   ]
  },
  {
   "cell_type": "code",
   "execution_count": 1,
   "metadata": {},
   "outputs": [],
   "source": [
    "import numpy as np\n",
    "import pandas as pd\n",
    "import matplotlib.pyplot as plt\n",
    "import seaborn as sns\n",
    "%matplotlib inline"
   ]
  },
  {
   "cell_type": "code",
   "execution_count": 2,
   "metadata": {},
   "outputs": [
    {
     "name": "stdout",
     "output_type": "stream",
     "text": [
      "1. Title of Database: Annealing Data\n",
      "\n",
      "2. Source Information: donated by David Sterling and Wray Buntine.\n",
      "\n",
      "3. Past Usage: unknown\n",
      "\n",
      "4. Relevant Information:\n",
      "   -- Explanation: I suspect this was left by Ross Quinlan in 1987 at the\n",
      "      4th Machine Learning Workshop.  I'd have to check with Jeff Schlimmer\n",
      "      to double check this.\n",
      "\n",
      "5. Number of Instances: 798\n",
      "\n",
      "6. Number of Attributes: 38\n",
      "   -- 6 continuously-valued\n",
      "   -- 3 integer-valued\n",
      "   -- 29 nominal-valued\n",
      "\n",
      "7. Attribute Information:\n",
      "    1. family:\t\t--,GB,GK,GS,TN,ZA,ZF,ZH,ZM,ZS\n",
      "    2. product-type:\tC, H, G\n",
      "    3. steel:\t\t-,R,A,U,K,M,S,W,V\n",
      "    4. carbon:\t\tcontinuous\n",
      "    5. hardness:\tcontinuous\n",
      "    6. temper_rolling:\t-,T\n",
      "    7. condition:\t-,S,A,X\n",
      "    8. formability:\t-,1,2,3,4,5\n",
      "    9. strength:\tcontinuous\n",
      "   10. non-ageing:\t-,N\n",
      "   11. surface-finish:\tP,M,-\n",
      "   12. surface-quality: -,D,E,F,G\n",
      "   13. enamelability:\t-,1,2,3,4,5\n",
      "   14. bc:\t\tY,-\n",
      "   15. bf:\t\tY,-\n",
      "   16. bt:\t\tY,-\n",
      "   17. bw/me:\t\tB,M,-\n",
      "   18. bl:\t\tY,-\n",
      "   19. m:\t\tY,-\n",
      "   20. chrom:\t\tC,-\n",
      "   21. phos:\t\tP,-\n",
      "   22. cbond:\t\tY,-\n",
      "   23. marvi:\t\tY,-\n",
      "   24. exptl:\t\tY,-\n",
      "   25. ferro:\t\tY,-\n",
      "   26. corr:\t\tY,-\n",
      "   27. blue/bright/varn/clean:\t\tB,R,V,C,-\n",
      "   28. lustre:\t\tY,-\n",
      "   29. jurofm:\t\tY,-\n",
      "   30. s:\t\tY,-\n",
      "   31. p:\t\tY,-\n",
      "   32. shape:\t\tCOIL, SHEET\n",
      "   33. thick:\t\tcontinuous\n",
      "   34. width:\t\tcontinuous\n",
      "   35. len:\t\tcontinuous\n",
      "   36. oil:\t\t-,Y,N\n",
      "   37. bore:\t\t0000,0500,0600,0760\n",
      "   38. packing:\t-,1,2,3\n",
      "   classes:        1,2,3,4,5,U\n",
      " \n",
      "   -- The '-' values are actually 'not_applicable' values rather than\n",
      "      'missing_values' (and so can be treated as legal discrete\n",
      "      values rather than as showing the absence of a discrete value).\n",
      "\n",
      "8. Missing Attribute Values: Signified with \"?\"\n",
      "   Attribute:  Number of instances missing its value:\n",
      "   1           0\n",
      "   2           0\n",
      "   3           70\n",
      "   4           0\n",
      "   5           0\n",
      "   6           675\n",
      "   7           271\n",
      "   8           283\n",
      "   9           0\n",
      "  10           703\n",
      "  11           790\n",
      "  12           217\n",
      "  13           785\n",
      "  14           797\n",
      "  15           680\n",
      "  16           736\n",
      "  17           609\n",
      "  18           662\n",
      "  19           798\n",
      "  20           775\n",
      "  21           791\n",
      "  22           730\n",
      "  23           798\n",
      "  24           796\n",
      "  25           772\n",
      "  26           798\n",
      "  27           793\n",
      "  28           753\n",
      "  29           798\n",
      "  30           798\n",
      "  31           798\n",
      "  32           0\n",
      "  33           0\n",
      "  34           0\n",
      "  35           0\n",
      "  36           740\n",
      "  37           0\n",
      "  38           789\n",
      "  39           0\n",
      "\n",
      "9. Distribution of Classes\n",
      "     Class Name:   Number of Instances:\n",
      "     1               8\n",
      "     2              88\n",
      "     3             608\n",
      "     4               0\n",
      "     5              60\n",
      "     U              34\n",
      "                   ---\n",
      "                   798\n",
      "\n"
     ]
    }
   ],
   "source": [
    "with open('anneal.names') as file:\n",
    "    print(file.read())"
   ]
  },
  {
   "cell_type": "code",
   "execution_count": 3,
   "metadata": {},
   "outputs": [],
   "source": [
    "names=['family','product-type','steel','carbon','hardness',\n",
    "       'temper_rolling','condition','formability','strength','non-ageing',\n",
    "       'surface-finish','surface-quality','enamelability','bc','bf',\n",
    "       'bt','bw/me','bl','m','chrom',\n",
    "       'phos','cbond','marvi','exptl','ferro',\n",
    "       'corr','bbvcl','lustre','jurofm','s',\n",
    "       'p','shape','thick','width','len',\n",
    "       'oil','bore','packing','class']"
   ]
  },
  {
   "cell_type": "code",
   "execution_count": 4,
   "metadata": {},
   "outputs": [],
   "source": [
    "df=pd.read_csv('anneal.data',names=names,na_values=['?'],keep_default_na=True)"
   ]
  },
  {
   "cell_type": "code",
   "execution_count": 5,
   "metadata": {},
   "outputs": [
    {
     "data": {
      "text/html": [
       "<div>\n",
       "<style scoped>\n",
       "    .dataframe tbody tr th:only-of-type {\n",
       "        vertical-align: middle;\n",
       "    }\n",
       "\n",
       "    .dataframe tbody tr th {\n",
       "        vertical-align: top;\n",
       "    }\n",
       "\n",
       "    .dataframe thead th {\n",
       "        text-align: right;\n",
       "    }\n",
       "</style>\n",
       "<table border=\"1\" class=\"dataframe\">\n",
       "  <thead>\n",
       "    <tr style=\"text-align: right;\">\n",
       "      <th></th>\n",
       "      <th>family</th>\n",
       "      <th>product-type</th>\n",
       "      <th>steel</th>\n",
       "      <th>carbon</th>\n",
       "      <th>hardness</th>\n",
       "      <th>temper_rolling</th>\n",
       "      <th>condition</th>\n",
       "      <th>formability</th>\n",
       "      <th>strength</th>\n",
       "      <th>non-ageing</th>\n",
       "      <th>...</th>\n",
       "      <th>s</th>\n",
       "      <th>p</th>\n",
       "      <th>shape</th>\n",
       "      <th>thick</th>\n",
       "      <th>width</th>\n",
       "      <th>len</th>\n",
       "      <th>oil</th>\n",
       "      <th>bore</th>\n",
       "      <th>packing</th>\n",
       "      <th>class</th>\n",
       "    </tr>\n",
       "  </thead>\n",
       "  <tbody>\n",
       "    <tr>\n",
       "      <th>0</th>\n",
       "      <td>NaN</td>\n",
       "      <td>C</td>\n",
       "      <td>A</td>\n",
       "      <td>8</td>\n",
       "      <td>0</td>\n",
       "      <td>NaN</td>\n",
       "      <td>S</td>\n",
       "      <td>NaN</td>\n",
       "      <td>0</td>\n",
       "      <td>NaN</td>\n",
       "      <td>...</td>\n",
       "      <td>NaN</td>\n",
       "      <td>NaN</td>\n",
       "      <td>COIL</td>\n",
       "      <td>0.700</td>\n",
       "      <td>610.0</td>\n",
       "      <td>0</td>\n",
       "      <td>NaN</td>\n",
       "      <td>0</td>\n",
       "      <td>NaN</td>\n",
       "      <td>3</td>\n",
       "    </tr>\n",
       "    <tr>\n",
       "      <th>1</th>\n",
       "      <td>NaN</td>\n",
       "      <td>C</td>\n",
       "      <td>R</td>\n",
       "      <td>0</td>\n",
       "      <td>0</td>\n",
       "      <td>NaN</td>\n",
       "      <td>S</td>\n",
       "      <td>2.0</td>\n",
       "      <td>0</td>\n",
       "      <td>NaN</td>\n",
       "      <td>...</td>\n",
       "      <td>NaN</td>\n",
       "      <td>NaN</td>\n",
       "      <td>COIL</td>\n",
       "      <td>3.200</td>\n",
       "      <td>610.0</td>\n",
       "      <td>0</td>\n",
       "      <td>NaN</td>\n",
       "      <td>0</td>\n",
       "      <td>NaN</td>\n",
       "      <td>3</td>\n",
       "    </tr>\n",
       "    <tr>\n",
       "      <th>2</th>\n",
       "      <td>NaN</td>\n",
       "      <td>C</td>\n",
       "      <td>R</td>\n",
       "      <td>0</td>\n",
       "      <td>0</td>\n",
       "      <td>NaN</td>\n",
       "      <td>S</td>\n",
       "      <td>2.0</td>\n",
       "      <td>0</td>\n",
       "      <td>NaN</td>\n",
       "      <td>...</td>\n",
       "      <td>NaN</td>\n",
       "      <td>NaN</td>\n",
       "      <td>SHEET</td>\n",
       "      <td>0.700</td>\n",
       "      <td>1300.0</td>\n",
       "      <td>762</td>\n",
       "      <td>NaN</td>\n",
       "      <td>0</td>\n",
       "      <td>NaN</td>\n",
       "      <td>3</td>\n",
       "    </tr>\n",
       "    <tr>\n",
       "      <th>3</th>\n",
       "      <td>NaN</td>\n",
       "      <td>C</td>\n",
       "      <td>A</td>\n",
       "      <td>0</td>\n",
       "      <td>60</td>\n",
       "      <td>T</td>\n",
       "      <td>NaN</td>\n",
       "      <td>NaN</td>\n",
       "      <td>0</td>\n",
       "      <td>NaN</td>\n",
       "      <td>...</td>\n",
       "      <td>NaN</td>\n",
       "      <td>NaN</td>\n",
       "      <td>COIL</td>\n",
       "      <td>2.801</td>\n",
       "      <td>385.1</td>\n",
       "      <td>0</td>\n",
       "      <td>NaN</td>\n",
       "      <td>0</td>\n",
       "      <td>NaN</td>\n",
       "      <td>3</td>\n",
       "    </tr>\n",
       "    <tr>\n",
       "      <th>4</th>\n",
       "      <td>NaN</td>\n",
       "      <td>C</td>\n",
       "      <td>A</td>\n",
       "      <td>0</td>\n",
       "      <td>60</td>\n",
       "      <td>T</td>\n",
       "      <td>NaN</td>\n",
       "      <td>NaN</td>\n",
       "      <td>0</td>\n",
       "      <td>NaN</td>\n",
       "      <td>...</td>\n",
       "      <td>NaN</td>\n",
       "      <td>NaN</td>\n",
       "      <td>SHEET</td>\n",
       "      <td>0.801</td>\n",
       "      <td>255.0</td>\n",
       "      <td>269</td>\n",
       "      <td>NaN</td>\n",
       "      <td>0</td>\n",
       "      <td>NaN</td>\n",
       "      <td>3</td>\n",
       "    </tr>\n",
       "  </tbody>\n",
       "</table>\n",
       "<p>5 rows × 39 columns</p>\n",
       "</div>"
      ],
      "text/plain": [
       "  family product-type steel  carbon  hardness temper_rolling condition  \\\n",
       "0    NaN            C     A       8         0            NaN         S   \n",
       "1    NaN            C     R       0         0            NaN         S   \n",
       "2    NaN            C     R       0         0            NaN         S   \n",
       "3    NaN            C     A       0        60              T       NaN   \n",
       "4    NaN            C     A       0        60              T       NaN   \n",
       "\n",
       "   formability  strength non-ageing  ...   s   p  shape  thick   width  len  \\\n",
       "0          NaN         0        NaN  ... NaN NaN   COIL  0.700   610.0    0   \n",
       "1          2.0         0        NaN  ... NaN NaN   COIL  3.200   610.0    0   \n",
       "2          2.0         0        NaN  ... NaN NaN  SHEET  0.700  1300.0  762   \n",
       "3          NaN         0        NaN  ... NaN NaN   COIL  2.801   385.1    0   \n",
       "4          NaN         0        NaN  ... NaN NaN  SHEET  0.801   255.0  269   \n",
       "\n",
       "   oil bore  packing class  \n",
       "0  NaN    0      NaN     3  \n",
       "1  NaN    0      NaN     3  \n",
       "2  NaN    0      NaN     3  \n",
       "3  NaN    0      NaN     3  \n",
       "4  NaN    0      NaN     3  \n",
       "\n",
       "[5 rows x 39 columns]"
      ]
     },
     "execution_count": 5,
     "metadata": {},
     "output_type": "execute_result"
    }
   ],
   "source": [
    "df.head()"
   ]
  },
  {
   "cell_type": "code",
   "execution_count": 6,
   "metadata": {},
   "outputs": [
    {
     "name": "stdout",
     "output_type": "stream",
     "text": [
      "<class 'pandas.core.frame.DataFrame'>\n",
      "RangeIndex: 798 entries, 0 to 797\n",
      "Data columns (total 39 columns):\n",
      " #   Column           Non-Null Count  Dtype  \n",
      "---  ------           --------------  -----  \n",
      " 0   family           111 non-null    object \n",
      " 1   product-type     798 non-null    object \n",
      " 2   steel            728 non-null    object \n",
      " 3   carbon           798 non-null    int64  \n",
      " 4   hardness         798 non-null    int64  \n",
      " 5   temper_rolling   123 non-null    object \n",
      " 6   condition        527 non-null    object \n",
      " 7   formability      515 non-null    float64\n",
      " 8   strength         798 non-null    int64  \n",
      " 9   non-ageing       95 non-null     object \n",
      " 10  surface-finish   8 non-null      object \n",
      " 11  surface-quality  581 non-null    object \n",
      " 12  enamelability    13 non-null     float64\n",
      " 13  bc               1 non-null      object \n",
      " 14  bf               118 non-null    object \n",
      " 15  bt               62 non-null     object \n",
      " 16  bw/me            189 non-null    object \n",
      " 17  bl               136 non-null    object \n",
      " 18  m                0 non-null      float64\n",
      " 19  chrom            23 non-null     object \n",
      " 20  phos             7 non-null      object \n",
      " 21  cbond            68 non-null     object \n",
      " 22  marvi            0 non-null      float64\n",
      " 23  exptl            2 non-null      object \n",
      " 24  ferro            26 non-null     object \n",
      " 25  corr             0 non-null      float64\n",
      " 26  bbvcl            5 non-null      object \n",
      " 27  lustre           45 non-null     object \n",
      " 28  jurofm           0 non-null      float64\n",
      " 29  s                0 non-null      float64\n",
      " 30  p                0 non-null      float64\n",
      " 31  shape            798 non-null    object \n",
      " 32  thick            798 non-null    float64\n",
      " 33  width            798 non-null    float64\n",
      " 34  len              798 non-null    int64  \n",
      " 35  oil              58 non-null     object \n",
      " 36  bore             798 non-null    int64  \n",
      " 37  packing          9 non-null      float64\n",
      " 38  class            798 non-null    object \n",
      "dtypes: float64(11), int64(5), object(23)\n",
      "memory usage: 243.3+ KB\n"
     ]
    }
   ],
   "source": [
    "df.info()"
   ]
  },
  {
   "cell_type": "code",
   "execution_count": 7,
   "metadata": {},
   "outputs": [
    {
     "data": {
      "text/plain": [
       "(798, 39)"
      ]
     },
     "execution_count": 7,
     "metadata": {},
     "output_type": "execute_result"
    }
   ],
   "source": [
    "df.shape"
   ]
  },
  {
   "cell_type": "code",
   "execution_count": 8,
   "metadata": {},
   "outputs": [
    {
     "data": {
      "text/plain": [
       "family             687\n",
       "product-type         0\n",
       "steel               70\n",
       "carbon               0\n",
       "hardness             0\n",
       "temper_rolling     675\n",
       "condition          271\n",
       "formability        283\n",
       "strength             0\n",
       "non-ageing         703\n",
       "surface-finish     790\n",
       "surface-quality    217\n",
       "enamelability      785\n",
       "bc                 797\n",
       "bf                 680\n",
       "bt                 736\n",
       "bw/me              609\n",
       "bl                 662\n",
       "m                  798\n",
       "chrom              775\n",
       "phos               791\n",
       "cbond              730\n",
       "marvi              798\n",
       "exptl              796\n",
       "ferro              772\n",
       "corr               798\n",
       "bbvcl              793\n",
       "lustre             753\n",
       "jurofm             798\n",
       "s                  798\n",
       "p                  798\n",
       "shape                0\n",
       "thick                0\n",
       "width                0\n",
       "len                  0\n",
       "oil                740\n",
       "bore                 0\n",
       "packing            789\n",
       "class                0\n",
       "dtype: int64"
      ]
     },
     "execution_count": 8,
     "metadata": {},
     "output_type": "execute_result"
    }
   ],
   "source": [
    "df.isna().sum()"
   ]
  },
  {
   "cell_type": "code",
   "execution_count": 9,
   "metadata": {},
   "outputs": [
    {
     "data": {
      "text/plain": [
       "<matplotlib.axes._subplots.AxesSubplot at 0x17690787fd0>"
      ]
     },
     "execution_count": 9,
     "metadata": {},
     "output_type": "execute_result"
    },
    {
     "data": {
      "image/png": "[encoded data removed]",
      "text/plain": [
       "<Figure size 864x432 with 2 Axes>"
      ]
     },
     "metadata": {},
     "output_type": "display_data"
    }
   ],
   "source": [
    "plt.figure(figsize=(12,6))\n",
    "sns.heatmap(df.isna())"
   ]
  },
  {
   "cell_type": "code",
   "execution_count": 10,
   "metadata": {},
   "outputs": [
    {
     "data": {
      "text/plain": [
       "Index(['family', 'temper_rolling', 'non-ageing', 'surface-finish',\n",
       "       'enamelability', 'bc', 'bf', 'bt', 'bw/me', 'bl', 'm', 'chrom', 'phos',\n",
       "       'cbond', 'marvi', 'exptl', 'ferro', 'corr', 'bbvcl', 'lustre', 'jurofm',\n",
       "       's', 'p', 'oil', 'packing'],\n",
       "      dtype='object')"
      ]
     },
     "execution_count": 10,
     "metadata": {},
     "output_type": "execute_result"
    }
   ],
   "source": [
    "df.isna().sum()[df.isna().sum()>df.shape[0]/2].index"
   ]
  },
  {
   "cell_type": "code",
   "execution_count": 11,
   "metadata": {},
   "outputs": [],
   "source": [
    "df.drop(columns=['family', 'temper_rolling', 'non-ageing', 'surface-finish',\n",
    "       'enamelability', 'bc', 'bf', 'bt', 'bw/me', 'bl', 'm', 'chrom', 'phos',\n",
    "       'cbond', 'marvi', 'exptl', 'ferro', 'corr', 'bbvcl', 'lustre', 'jurofm',\n",
    "       's', 'p', 'oil', 'packing'],inplace=True)"
   ]
  },
  {
   "cell_type": "code",
   "execution_count": 12,
   "metadata": {},
   "outputs": [
    {
     "data": {
      "text/plain": [
       "<matplotlib.axes._subplots.AxesSubplot at 0x1768e6d50b8>"
      ]
     },
     "execution_count": 12,
     "metadata": {},
     "output_type": "execute_result"
    },
    {
     "data": {
      "image/png": "[encoded data removed]",
      "text/plain": [
       "<Figure size 864x432 with 2 Axes>"
      ]
     },
     "metadata": {},
     "output_type": "display_data"
    }
   ],
   "source": [
    "plt.figure(figsize=(12,6))\n",
    "sns.heatmap(df.isna())"
   ]
  },
  {
   "cell_type": "code",
   "execution_count": 13,
   "metadata": {
    "scrolled": false
   },
   "outputs": [
    {
     "data": {
      "text/plain": [
       "product-type         0\n",
       "steel               70\n",
       "carbon               0\n",
       "hardness             0\n",
       "condition          271\n",
       "formability        283\n",
       "strength             0\n",
       "surface-quality    217\n",
       "shape                0\n",
       "thick                0\n",
       "width                0\n",
       "len                  0\n",
       "bore                 0\n",
       "class                0\n",
       "dtype: int64"
      ]
     },
     "execution_count": 13,
     "metadata": {},
     "output_type": "execute_result"
    }
   ],
   "source": [
    "df.isna().sum()"
   ]
  },
  {
   "cell_type": "code",
   "execution_count": 14,
   "metadata": {},
   "outputs": [
    {
     "name": "stdout",
     "output_type": "stream",
     "text": [
      "<class 'pandas.core.frame.DataFrame'>\n",
      "RangeIndex: 798 entries, 0 to 797\n",
      "Data columns (total 14 columns):\n",
      " #   Column           Non-Null Count  Dtype  \n",
      "---  ------           --------------  -----  \n",
      " 0   product-type     798 non-null    object \n",
      " 1   steel            728 non-null    object \n",
      " 2   carbon           798 non-null    int64  \n",
      " 3   hardness         798 non-null    int64  \n",
      " 4   condition        527 non-null    object \n",
      " 5   formability      515 non-null    float64\n",
      " 6   strength         798 non-null    int64  \n",
      " 7   surface-quality  581 non-null    object \n",
      " 8   shape            798 non-null    object \n",
      " 9   thick            798 non-null    float64\n",
      " 10  width            798 non-null    float64\n",
      " 11  len              798 non-null    int64  \n",
      " 12  bore             798 non-null    int64  \n",
      " 13  class            798 non-null    object \n",
      "dtypes: float64(3), int64(5), object(6)\n",
      "memory usage: 87.4+ KB\n"
     ]
    }
   ],
   "source": [
    "df.info()"
   ]
  },
  {
   "cell_type": "code",
   "execution_count": 15,
   "metadata": {},
   "outputs": [
    {
     "data": {
      "text/plain": [
       "[RangeIndex(start=0, stop=798, step=1),\n",
       " Index(['product-type', 'steel', 'condition', 'surface-quality', 'shape',\n",
       "        'class'],\n",
       "       dtype='object')]"
      ]
     },
     "execution_count": 15,
     "metadata": {},
     "output_type": "execute_result"
    }
   ],
   "source": [
    "df.select_dtypes(['object']).axes"
   ]
  },
  {
   "cell_type": "code",
   "execution_count": 16,
   "metadata": {},
   "outputs": [
    {
     "data": {
      "text/plain": [
       "[RangeIndex(start=0, stop=798, step=1),\n",
       " Index(['carbon', 'hardness', 'formability', 'strength', 'thick', 'width',\n",
       "        'len', 'bore'],\n",
       "       dtype='object')]"
      ]
     },
     "execution_count": 16,
     "metadata": {},
     "output_type": "execute_result"
    }
   ],
   "source": [
    "df.select_dtypes(exclude=['object']).axes"
   ]
  },
  {
   "cell_type": "code",
   "execution_count": 17,
   "metadata": {},
   "outputs": [],
   "source": [
    "df.replace('-','NN',inplace=True)"
   ]
  },
  {
   "cell_type": "code",
   "execution_count": 18,
   "metadata": {},
   "outputs": [
    {
     "data": {
      "text/plain": [
       "<matplotlib.axes._subplots.AxesSubplot at 0x176909e35c0>"
      ]
     },
     "execution_count": 18,
     "metadata": {},
     "output_type": "execute_result"
    },
    {
     "data": {
      "image/png": "[encoded data removed]",
      "text/plain": [
       "<Figure size 432x288 with 1 Axes>"
      ]
     },
     "metadata": {},
     "output_type": "display_data"
    }
   ],
   "source": [
    "sns.countplot(x='product-type',data=df)"
   ]
  },
  {
   "cell_type": "code",
   "execution_count": 19,
   "metadata": {},
   "outputs": [
    {
     "data": {
      "text/plain": [
       "C    798\n",
       "Name: product-type, dtype: int64"
      ]
     },
     "execution_count": 19,
     "metadata": {},
     "output_type": "execute_result"
    }
   ],
   "source": [
    "df['product-type'].value_counts()"
   ]
  },
  {
   "cell_type": "code",
   "execution_count": 20,
   "metadata": {},
   "outputs": [
    {
     "data": {
      "text/plain": [
       "<matplotlib.axes._subplots.AxesSubplot at 0x17690c31cf8>"
      ]
     },
     "execution_count": 20,
     "metadata": {},
     "output_type": "execute_result"
    },
    {
     "data": {
      "image/png": "[encoded data removed]",
      "text/plain": [
       "<Figure size 432x288 with 1 Axes>"
      ]
     },
     "metadata": {},
     "output_type": "display_data"
    }
   ],
   "source": [
    "sns.countplot(x='steel',hue='class',data=df)"
   ]
  },
  {
   "cell_type": "code",
   "execution_count": 21,
   "metadata": {},
   "outputs": [
    {
     "data": {
      "text/plain": [
       "<matplotlib.axes._subplots.AxesSubplot at 0x17690cf5f28>"
      ]
     },
     "execution_count": 21,
     "metadata": {},
     "output_type": "execute_result"
    },
    {
     "data": {
      "image/png": "[encoded data removed]",
      "text/plain": [
       "<Figure size 432x288 with 1 Axes>"
      ]
     },
     "metadata": {},
     "output_type": "display_data"
    }
   ],
   "source": [
    "sns.boxplot(x='steel',y='carbon',data=df)"
   ]
  },
  {
   "cell_type": "code",
   "execution_count": 22,
   "metadata": {},
   "outputs": [
    {
     "data": {
      "text/plain": [
       "<matplotlib.axes._subplots.AxesSubplot at 0x176909b6eb8>"
      ]
     },
     "execution_count": 22,
     "metadata": {},
     "output_type": "execute_result"
    },
    {
     "data": {
      "image/png": "[encoded data removed]",
      "text/plain": [
       "<Figure size 432x288 with 1 Axes>"
      ]
     },
     "metadata": {},
     "output_type": "display_data"
    }
   ],
   "source": [
    "sns.distplot(df.carbon,kde=False)"
   ]
  },
  {
   "cell_type": "code",
   "execution_count": 23,
   "metadata": {},
   "outputs": [
    {
     "data": {
      "text/plain": [
       "<matplotlib.axes._subplots.AxesSubplot at 0x17690f6dd68>"
      ]
     },
     "execution_count": 23,
     "metadata": {},
     "output_type": "execute_result"
    },
    {
     "data": {
      "image/png": "[encoded data removed]",
      "text/plain": [
       "<Figure size 432x288 with 1 Axes>"
      ]
     },
     "metadata": {},
     "output_type": "display_data"
    }
   ],
   "source": [
    "sns.distplot(df.hardness,kde=False)"
   ]
  },
  {
   "cell_type": "code",
   "execution_count": 24,
   "metadata": {},
   "outputs": [
    {
     "data": {
      "text/plain": [
       "<matplotlib.axes._subplots.AxesSubplot at 0x17690f94a90>"
      ]
     },
     "execution_count": 24,
     "metadata": {},
     "output_type": "execute_result"
    },
    {
     "data": {
      "image/png": "[encoded data removed]",
      "text/plain": [
       "<Figure size 432x288 with 1 Axes>"
      ]
     },
     "metadata": {},
     "output_type": "display_data"
    }
   ],
   "source": [
    "sns.countplot('surface-quality',hue='class',data=df)"
   ]
  },
  {
   "cell_type": "code",
   "execution_count": 25,
   "metadata": {},
   "outputs": [
    {
     "data": {
      "text/plain": [
       "<matplotlib.axes._subplots.AxesSubplot at 0x176910c90f0>"
      ]
     },
     "execution_count": 25,
     "metadata": {},
     "output_type": "execute_result"
    },
    {
     "data": {
      "image/png": "[encoded data removed]",
      "text/plain": [
       "<Figure size 432x288 with 1 Axes>"
      ]
     },
     "metadata": {},
     "output_type": "display_data"
    }
   ],
   "source": [
    "sns.countplot('condition',hue='class',data=df)"
   ]
  },
  {
   "cell_type": "code",
   "execution_count": 26,
   "metadata": {},
   "outputs": [
    {
     "data": {
      "text/plain": [
       "<matplotlib.axes._subplots.AxesSubplot at 0x1769112ce80>"
      ]
     },
     "execution_count": 26,
     "metadata": {},
     "output_type": "execute_result"
    },
    {
     "data": {
      "image/png": "[encoded data removed]",
      "text/plain": [
       "<Figure size 432x288 with 1 Axes>"
      ]
     },
     "metadata": {},
     "output_type": "display_data"
    }
   ],
   "source": [
    "sns.countplot('shape',hue='class',data=df)"
   ]
  },
  {
   "cell_type": "code",
   "execution_count": 27,
   "metadata": {},
   "outputs": [
    {
     "data": {
      "text/plain": [
       "<matplotlib.axes._subplots.AxesSubplot at 0x176911d3550>"
      ]
     },
     "execution_count": 27,
     "metadata": {},
     "output_type": "execute_result"
    },
    {
     "data": {
      "image/png": "[encoded data removed]",
      "text/plain": [
       "<Figure size 432x288 with 1 Axes>"
      ]
     },
     "metadata": {},
     "output_type": "display_data"
    }
   ],
   "source": [
    "sns.boxplot(y='width',x='surface-quality',data=df)"
   ]
  },
  {
   "cell_type": "code",
   "execution_count": 28,
   "metadata": {},
   "outputs": [
    {
     "data": {
      "text/plain": [
       "<matplotlib.axes._subplots.AxesSubplot at 0x17691260e48>"
      ]
     },
     "execution_count": 28,
     "metadata": {},
     "output_type": "execute_result"
    },
    {
     "data": {
      "image/png": "[encoded data removed]",
      "text/plain": [
       "<Figure size 432x288 with 1 Axes>"
      ]
     },
     "metadata": {},
     "output_type": "display_data"
    }
   ],
   "source": [
    "sns.distplot(df.formability.dropna())"
   ]
  },
  {
   "cell_type": "code",
   "execution_count": 29,
   "metadata": {},
   "outputs": [
    {
     "data": {
      "text/plain": [
       "<matplotlib.axes._subplots.AxesSubplot at 0x17691313cc0>"
      ]
     },
     "execution_count": 29,
     "metadata": {},
     "output_type": "execute_result"
    },
    {
     "data": {
      "image/png": "[encoded data removed]",
      "text/plain": [
       "<Figure size 432x288 with 1 Axes>"
      ]
     },
     "metadata": {},
     "output_type": "display_data"
    }
   ],
   "source": [
    "sns.countplot('formability',hue='shape',data=df)"
   ]
  },
  {
   "cell_type": "code",
   "execution_count": 30,
   "metadata": {},
   "outputs": [
    {
     "data": {
      "text/plain": [
       "steel               70\n",
       "condition          271\n",
       "formability        283\n",
       "surface-quality    217\n",
       "dtype: int64"
      ]
     },
     "execution_count": 30,
     "metadata": {},
     "output_type": "execute_result"
    }
   ],
   "source": [
    "df.isna().sum()[df.isna().sum()>0]"
   ]
  },
  {
   "cell_type": "code",
   "execution_count": 31,
   "metadata": {},
   "outputs": [],
   "source": [
    "df.steel.fillna(df.steel.mode()[0],inplace=True)\n",
    "df.condition.fillna(df.condition.mode()[0],inplace=True)\n",
    "df.formability.fillna(df.formability.mode()[0],inplace=True)\n",
    "df['surface-quality'].fillna(df['surface-quality'].mode()[0],inplace=True)"
   ]
  },
  {
   "cell_type": "code",
   "execution_count": 32,
   "metadata": {},
   "outputs": [
    {
     "data": {
      "text/plain": [
       "<matplotlib.axes._subplots.AxesSubplot at 0x17691369e10>"
      ]
     },
     "execution_count": 32,
     "metadata": {},
     "output_type": "execute_result"
    },
    {
     "data": {
      "image/png": "[encoded data removed]",
      "text/plain": [
       "<Figure size 864x432 with 2 Axes>"
      ]
     },
     "metadata": {},
     "output_type": "display_data"
    }
   ],
   "source": [
    "plt.figure(figsize=(12,6))\n",
    "sns.heatmap(df.isna())"
   ]
  },
  {
   "cell_type": "code",
   "execution_count": 33,
   "metadata": {},
   "outputs": [
    {
     "data": {
      "text/plain": [
       "<matplotlib.axes._subplots.AxesSubplot at 0x1769136dac8>"
      ]
     },
     "execution_count": 33,
     "metadata": {},
     "output_type": "execute_result"
    },
    {
     "data": {
      "image/png": "[encoded data removed]",
      "text/plain": [
       "<Figure size 432x288 with 1 Axes>"
      ]
     },
     "metadata": {},
     "output_type": "display_data"
    }
   ],
   "source": [
    "sns.countplot('class',data=df)"
   ]
  },
  {
   "cell_type": "code",
   "execution_count": 34,
   "metadata": {},
   "outputs": [
    {
     "data": {
      "text/plain": [
       "3    608\n",
       "2     88\n",
       "5     60\n",
       "U     34\n",
       "1      8\n",
       "Name: class, dtype: int64"
      ]
     },
     "execution_count": 34,
     "metadata": {},
     "output_type": "execute_result"
    }
   ],
   "source": [
    "df['class'].value_counts()"
   ]
  },
  {
   "cell_type": "code",
   "execution_count": 35,
   "metadata": {},
   "outputs": [],
   "source": [
    "df.drop(columns=['product-type'],inplace=True)"
   ]
  },
  {
   "cell_type": "code",
   "execution_count": 36,
   "metadata": {},
   "outputs": [
    {
     "data": {
      "text/plain": [
       "[RangeIndex(start=0, stop=798, step=1),\n",
       " Index(['steel', 'condition', 'surface-quality', 'shape', 'class'], dtype='object')]"
      ]
     },
     "execution_count": 36,
     "metadata": {},
     "output_type": "execute_result"
    }
   ],
   "source": [
    "df.select_dtypes(['object']).axes"
   ]
  },
  {
   "cell_type": "code",
   "execution_count": 37,
   "metadata": {},
   "outputs": [],
   "source": [
    "df.steel=df.steel.map({'A':1, 'R':2, 'K':3, 'W':4, 'M':5, 'V':6, 'S':7})"
   ]
  },
  {
   "cell_type": "code",
   "execution_count": 38,
   "metadata": {},
   "outputs": [],
   "source": [
    "df.condition=df.condition.map({'S':1,'A':2})"
   ]
  },
  {
   "cell_type": "code",
   "execution_count": 39,
   "metadata": {},
   "outputs": [],
   "source": [
    "df['surface-quality']=df['surface-quality'].map({'E':1, 'G':2, 'F':3, 'D':4})"
   ]
  },
  {
   "cell_type": "code",
   "execution_count": 40,
   "metadata": {},
   "outputs": [],
   "source": [
    "df['shape']=df['shape'].map({'SHEET':1,'COIL':2})"
   ]
  },
  {
   "cell_type": "code",
   "execution_count": 41,
   "metadata": {},
   "outputs": [
    {
     "name": "stdout",
     "output_type": "stream",
     "text": [
      "<class 'pandas.core.frame.DataFrame'>\n",
      "RangeIndex: 798 entries, 0 to 797\n",
      "Data columns (total 13 columns):\n",
      " #   Column           Non-Null Count  Dtype  \n",
      "---  ------           --------------  -----  \n",
      " 0   steel            798 non-null    int64  \n",
      " 1   carbon           798 non-null    int64  \n",
      " 2   hardness         798 non-null    int64  \n",
      " 3   condition        798 non-null    int64  \n",
      " 4   formability      798 non-null    float64\n",
      " 5   strength         798 non-null    int64  \n",
      " 6   surface-quality  798 non-null    int64  \n",
      " 7   shape            798 non-null    int64  \n",
      " 8   thick            798 non-null    float64\n",
      " 9   width            798 non-null    float64\n",
      " 10  len              798 non-null    int64  \n",
      " 11  bore             798 non-null    int64  \n",
      " 12  class            798 non-null    object \n",
      "dtypes: float64(3), int64(9), object(1)\n",
      "memory usage: 81.2+ KB\n"
     ]
    }
   ],
   "source": [
    "df.info()"
   ]
  },
  {
   "cell_type": "code",
   "execution_count": 42,
   "metadata": {},
   "outputs": [],
   "source": [
    "X=df.drop(columns=['class'])"
   ]
  },
  {
   "cell_type": "code",
   "execution_count": 43,
   "metadata": {},
   "outputs": [],
   "source": [
    "y=df['class']"
   ]
  },
  {
   "cell_type": "code",
   "execution_count": 44,
   "metadata": {},
   "outputs": [],
   "source": [
    "from sklearn.model_selection import train_test_split"
   ]
  },
  {
   "cell_type": "code",
   "execution_count": 45,
   "metadata": {},
   "outputs": [],
   "source": [
    "x_train,x_test,y_train,y_test=train_test_split(X,y,test_size=0.2,random_state=0)"
   ]
  },
  {
   "cell_type": "code",
   "execution_count": 46,
   "metadata": {},
   "outputs": [],
   "source": [
    "from sklearn.tree import DecisionTreeClassifier"
   ]
  },
  {
   "cell_type": "code",
   "execution_count": 47,
   "metadata": {},
   "outputs": [],
   "source": [
    "clf=DecisionTreeClassifier()"
   ]
  },
  {
   "cell_type": "code",
   "execution_count": 48,
   "metadata": {},
   "outputs": [
    {
     "data": {
      "text/plain": [
       "DecisionTreeClassifier(ccp_alpha=0.0, class_weight=None, criterion='gini',\n",
       "                       max_depth=None, max_features=None, max_leaf_nodes=None,\n",
       "                       min_impurity_decrease=0.0, min_impurity_split=None,\n",
       "                       min_samples_leaf=1, min_samples_split=2,\n",
       "                       min_weight_fraction_leaf=0.0, presort='deprecated',\n",
       "                       random_state=None, splitter='best')"
      ]
     },
     "execution_count": 48,
     "metadata": {},
     "output_type": "execute_result"
    }
   ],
   "source": [
    "clf.fit(x_train,y_train)"
   ]
  },
  {
   "cell_type": "code",
   "execution_count": 49,
   "metadata": {},
   "outputs": [],
   "source": [
    "y_pred=clf.predict(x_test)"
   ]
  },
  {
   "cell_type": "code",
   "execution_count": 50,
   "metadata": {},
   "outputs": [],
   "source": [
    "from sklearn.metrics import accuracy_score,classification_report"
   ]
  },
  {
   "cell_type": "code",
   "execution_count": 51,
   "metadata": {},
   "outputs": [
    {
     "data": {
      "text/plain": [
       "0.9125"
      ]
     },
     "execution_count": 51,
     "metadata": {},
     "output_type": "execute_result"
    }
   ],
   "source": [
    "accuracy_score(y_test,y_pred)"
   ]
  },
  {
   "cell_type": "code",
   "execution_count": 52,
   "metadata": {},
   "outputs": [
    {
     "name": "stdout",
     "output_type": "stream",
     "text": [
      "              precision    recall  f1-score   support\n",
      "\n",
      "           1       1.00      1.00      1.00         1\n",
      "           2       0.62      0.56      0.59         9\n",
      "           3       0.97      0.93      0.95       141\n",
      "           5       0.60      1.00      0.75         6\n",
      "           U       0.50      1.00      0.67         3\n",
      "\n",
      "    accuracy                           0.91       160\n",
      "   macro avg       0.74      0.90      0.79       160\n",
      "weighted avg       0.93      0.91      0.92       160\n",
      "\n"
     ]
    }
   ],
   "source": [
    "print(classification_report(y_test,y_pred))"
   ]
  },
  {
   "cell_type": "code",
   "execution_count": 53,
   "metadata": {},
   "outputs": [],
   "source": [
    "from sklearn.model_selection import cross_val_score"
   ]
  },
  {
   "cell_type": "code",
   "execution_count": 54,
   "metadata": {},
   "outputs": [],
   "source": [
    "scores = cross_val_score(clf, X, y, cv=6)"
   ]
  },
  {
   "cell_type": "code",
   "execution_count": 55,
   "metadata": {},
   "outputs": [
    {
     "name": "stdout",
     "output_type": "stream",
     "text": [
      "Accuracy: 0.9348370927318296 (+/- 0.033249371331883736)\n"
     ]
    }
   ],
   "source": [
    "print(f\"Accuracy: {scores.mean()} (+/- {scores.std() * 2})\")"
   ]
  }
 ],
 "metadata": {
  "kernelspec": {
   "display_name": "'Python Interactive'",
   "language": "python",
   "name": "5473b972-ada4-4097-9c4d-16b6589567f0"
  },
  "language_info": {
   "codemirror_mode": {
    "name": "ipython",
    "version": 3
   },
   "file_extension": ".py",
   "mimetype": "text/x-python",
   "name": "python",
   "nbconvert_exporter": "python",
   "pygments_lexer": "ipython3",
   "version": "3.6.5"
  }
 },
 "nbformat": 4,
 "nbformat_minor": 2
}
